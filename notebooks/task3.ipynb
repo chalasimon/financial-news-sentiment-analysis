{
 "cells": [
  {
   "cell_type": "markdown",
   "id": "1e02b39c",
   "metadata": {},
   "source": [
    "## Task 3: Correlation between news and stock Movement"
   ]
  },
  {
   "cell_type": "code",
   "execution_count": 1,
   "id": "91659746",
   "metadata": {},
   "outputs": [],
   "source": [
    "# reload the module\n",
    "%load_ext autoreload\n",
    "%autoreload 2 "
   ]
  },
  {
   "cell_type": "code",
   "execution_count": 2,
   "id": "5797d1a6",
   "metadata": {},
   "outputs": [],
   "source": [
    "# import libraries\n",
    "import numpy as np\n",
    "import matplotlib.pyplot as plt\n",
    "from matplotlib import cm\n",
    "import pandas as pd\n",
    "import os\n"
   ]
  },
  {
   "cell_type": "code",
   "execution_count": 3,
   "id": "ba8b09aa",
   "metadata": {},
   "outputs": [],
   "source": [
    "import sys\n",
    "from pathlib import Path\n",
    "\n",
    "# Add the project root directory to sys.path\n",
    "project_root = Path(\"..\").resolve()\n",
    "if str(project_root) not in sys.path:\n",
    "    sys.path.append(str(project_root))"
   ]
  },
  {
   "cell_type": "code",
   "execution_count": 4,
   "id": "b5336144",
   "metadata": {},
   "outputs": [],
   "source": [
    "#import data loader modules\n",
    "from src.data_loader import DataLoader as news_dt\n",
    "from src.y_finance_data_loader import DataLoader as y_finance_dt"
   ]
  },
  {
   "cell_type": "markdown",
   "id": "645baffe",
   "metadata": {},
   "source": [
    "### Load both datasets"
   ]
  },
  {
   "cell_type": "code",
   "execution_count": 5,
   "id": "c95829f8",
   "metadata": {},
   "outputs": [
    {
     "name": "stdout",
     "output_type": "stream",
     "text": [
      "   Unnamed: 0                                           headline  \\\n",
      "0           0            Stocks That Hit 52-Week Highs On Friday   \n",
      "1           1         Stocks That Hit 52-Week Highs On Wednesday   \n",
      "2           2                      71 Biggest Movers From Friday   \n",
      "3           3       46 Stocks Moving In Friday's Mid-Day Session   \n",
      "4           4  B of A Securities Maintains Neutral on Agilent...   \n",
      "\n",
      "                                                 url          publisher  \\\n",
      "0  https://www.benzinga.com/news/20/06/16190091/s...  Benzinga Insights   \n",
      "1  https://www.benzinga.com/news/20/06/16170189/s...  Benzinga Insights   \n",
      "2  https://www.benzinga.com/news/20/05/16103463/7...         Lisa Levin   \n",
      "3  https://www.benzinga.com/news/20/05/16095921/4...         Lisa Levin   \n",
      "4  https://www.benzinga.com/news/20/05/16095304/b...         Vick Meyer   \n",
      "\n",
      "                       date stock  \n",
      "0 2020-06-05 10:30:54-04:00     A  \n",
      "1 2020-06-03 10:45:20-04:00     A  \n",
      "2 2020-05-26 04:30:07-04:00     A  \n",
      "3 2020-05-22 12:45:06-04:00     A  \n",
      "4 2020-05-22 11:38:59-04:00     A  \n",
      "../data/yfinance_data\\AAPL_historical_data.csv\n",
      "../data/yfinance_data\\AMZN_historical_data.csv\n",
      "../data/yfinance_data\\GOOG_historical_data.csv\n",
      "../data/yfinance_data\\META_historical_data.csv\n",
      "../data/yfinance_data\\MSFT_historical_data.csv\n",
      "../data/yfinance_data\\NVDA_historical_data.csv\n",
      "../data/yfinance_data\\TSLA_historical_data.csv\n"
     ]
    }
   ],
   "source": [
    "#load news data\n",
    "news_data_loader = news_dt(\"../data/raw_analyst_ratings/raw_analyst_ratings.csv\");\n",
    "news_df = news_data_loader.load_data()\n",
    "print(news_df.head())\n",
    "\n",
    "# Convert news_df date to timezone-aware datetime\n",
    "if news_df['date'].dt.tz is None:\n",
    "    news_df['date'] = pd.to_datetime(news_df['date']).dt.tz_localize('UTC')\n",
    "else:\n",
    "    news_df['date'] = pd.to_datetime(news_df['date']).dt.tz_convert('UTC')\n",
    "\n",
    "#load y finance data\n",
    "directory = '../data/yfinance_data'\n",
    "aligned_dfs = []\n",
    "# List all files in the directory\n",
    "file_names = os.listdir(directory)\n",
    "\n",
    "for file_name in file_names:\n",
    "    if os.path.isfile(os.path.join(directory, file_name)):\n",
    "        print(os.path.join(directory, file_name))\n",
    "            # Load the stock data\n",
    "        stock_data = pd.read_csv(os.path.join(directory, file_name))\n",
    "        \n",
    "        # Convert the 'Date' column to datetime with timezone UTC\n",
    "        stock_data['Date'] = pd.to_datetime(stock_data['Date']).dt.tz_localize('UTC')\n",
    "        \n",
    "        # Filter stock data to start from the first date in the news data\n",
    "        start_date = news_df['date'].min()\n",
    "        filtered_stock_data = stock_data[stock_data['Date'] >= start_date]\n",
    "        \n",
    "        # Perform an inner join to keep only matching dates\n",
    "        aligned_data = pd.merge(filtered_stock_data, news_df, left_on='Date', right_on='date', how='inner')\n",
    "        \n",
    "        # Add a column to identify the stock\n",
    "        stock_name = os.path.basename(file_name).split('_')[0]  # Extract stock name from file name\n",
    "        aligned_data['Stock'] = stock_name\n",
    "        \n",
    "        # Append the aligned data to the list\n",
    "        aligned_dfs.append(aligned_data)\n",
    "\n",
    "# Concatenate all aligned data into one DataFrame\n",
    "final_data = pd.concat(aligned_dfs, ignore_index=True)\n",
    "        "
   ]
  },
  {
   "cell_type": "code",
   "execution_count": null,
   "id": "5c737e5d",
   "metadata": {},
   "outputs": [],
   "source": [
    "final_data"
   ]
  }
 ],
 "metadata": {
  "kernelspec": {
   "display_name": "venv",
   "language": "python",
   "name": "python3"
  },
  "language_info": {
   "codemirror_mode": {
    "name": "ipython",
    "version": 3
   },
   "file_extension": ".py",
   "mimetype": "text/x-python",
   "name": "python",
   "nbconvert_exporter": "python",
   "pygments_lexer": "ipython3",
   "version": "3.13.3"
  }
 },
 "nbformat": 4,
 "nbformat_minor": 5
}
