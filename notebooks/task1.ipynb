{
 "cells": [
  {
   "cell_type": "markdown",
   "id": "2e366d21",
   "metadata": {},
   "source": [
    "# Task 1 : Perform Exploratory Data Analysis (EDA)"
   ]
  },
  {
   "cell_type": "code",
   "execution_count": 1,
   "id": "cb6850c9",
   "metadata": {},
   "outputs": [],
   "source": [
    "import sys\n",
    "from pathlib import Path\n",
    "\n",
    "# Add the project root directory to sys.path\n",
    "project_root = Path(\"..\").resolve()\n",
    "if str(project_root) not in sys.path:\n",
    "    sys.path.append(str(project_root))\n"
   ]
  },
  {
   "cell_type": "code",
   "execution_count": 2,
   "id": "db8c191e",
   "metadata": {},
   "outputs": [],
   "source": [
    "# import modules\n",
    "from src.data_loader import DataLoader\n",
    "from src.eda.descriptive_stats import DescriptiveStats\n"
   ]
  },
  {
   "cell_type": "markdown",
   "id": "5354c825",
   "metadata": {},
   "source": [
    "## Load Dataset"
   ]
  },
  {
   "cell_type": "code",
   "execution_count": 3,
   "id": "e555d0be",
   "metadata": {},
   "outputs": [
    {
     "name": "stdout",
     "output_type": "stream",
     "text": [
      "   Unnamed: 0                                           headline  \\\n",
      "0           0            Stocks That Hit 52-Week Highs On Friday   \n",
      "1           1         Stocks That Hit 52-Week Highs On Wednesday   \n",
      "2           2                      71 Biggest Movers From Friday   \n",
      "3           3       46 Stocks Moving In Friday's Mid-Day Session   \n",
      "4           4  B of A Securities Maintains Neutral on Agilent...   \n",
      "\n",
      "                                                 url          publisher date  \\\n",
      "0  https://www.benzinga.com/news/20/06/16190091/s...  Benzinga Insights  NaT   \n",
      "1  https://www.benzinga.com/news/20/06/16170189/s...  Benzinga Insights  NaT   \n",
      "2  https://www.benzinga.com/news/20/05/16103463/7...         Lisa Levin  NaT   \n",
      "3  https://www.benzinga.com/news/20/05/16095921/4...         Lisa Levin  NaT   \n",
      "4  https://www.benzinga.com/news/20/05/16095304/b...         Vick Meyer  NaT   \n",
      "\n",
      "  stock  \n",
      "0     A  \n",
      "1     A  \n",
      "2     A  \n",
      "3     A  \n",
      "4     A  \n"
     ]
    }
   ],
   "source": [
    "#load data\n",
    "data_loader = DataLoader(\"../data/raw_analyst_ratings/raw_analyst_ratings.csv\");\n",
    "df = data_loader.load_data()\n",
    "print(df.head())\n"
   ]
  },
  {
   "cell_type": "markdown",
   "id": "505f01d5",
   "metadata": {},
   "source": [
    "## Descriptive Statistics"
   ]
  },
  {
   "cell_type": "markdown",
   "id": "4d745b2b",
   "metadata": {},
   "source": [
    "### Basic Statistics"
   ]
  },
  {
   "cell_type": "code",
   "execution_count": 4,
   "id": "766c9639",
   "metadata": {},
   "outputs": [
    {
     "data": {
      "application/vnd.microsoft.datawrangler.viewer.v0+json": {
       "columns": [
        {
         "name": "index",
         "rawType": "object",
         "type": "string"
        },
        {
         "name": "Unnamed: 0",
         "rawType": "float64",
         "type": "float"
        }
       ],
       "ref": "e48449a3-9781-4f67-ae62-f3b976d27bd0",
       "rows": [
        [
         "count",
         "1407328.0"
        ],
        [
         "mean",
         "707245.3964498681"
        ],
        [
         "std",
         "408100.9104397617"
        ],
        [
         "min",
         "0.0"
        ],
        [
         "25%",
         "353812.75"
        ],
        [
         "50%",
         "707239.5"
        ],
        [
         "75%",
         "1060710.25"
        ],
        [
         "max",
         "1413848.0"
        ]
       ],
       "shape": {
        "columns": 1,
        "rows": 8
       }
      },
      "text/html": [
       "<div>\n",
       "<style scoped>\n",
       "    .dataframe tbody tr th:only-of-type {\n",
       "        vertical-align: middle;\n",
       "    }\n",
       "\n",
       "    .dataframe tbody tr th {\n",
       "        vertical-align: top;\n",
       "    }\n",
       "\n",
       "    .dataframe thead th {\n",
       "        text-align: right;\n",
       "    }\n",
       "</style>\n",
       "<table border=\"1\" class=\"dataframe\">\n",
       "  <thead>\n",
       "    <tr style=\"text-align: right;\">\n",
       "      <th></th>\n",
       "      <th>Unnamed: 0</th>\n",
       "    </tr>\n",
       "  </thead>\n",
       "  <tbody>\n",
       "    <tr>\n",
       "      <th>count</th>\n",
       "      <td>1.407328e+06</td>\n",
       "    </tr>\n",
       "    <tr>\n",
       "      <th>mean</th>\n",
       "      <td>7.072454e+05</td>\n",
       "    </tr>\n",
       "    <tr>\n",
       "      <th>std</th>\n",
       "      <td>4.081009e+05</td>\n",
       "    </tr>\n",
       "    <tr>\n",
       "      <th>min</th>\n",
       "      <td>0.000000e+00</td>\n",
       "    </tr>\n",
       "    <tr>\n",
       "      <th>25%</th>\n",
       "      <td>3.538128e+05</td>\n",
       "    </tr>\n",
       "    <tr>\n",
       "      <th>50%</th>\n",
       "      <td>7.072395e+05</td>\n",
       "    </tr>\n",
       "    <tr>\n",
       "      <th>75%</th>\n",
       "      <td>1.060710e+06</td>\n",
       "    </tr>\n",
       "    <tr>\n",
       "      <th>max</th>\n",
       "      <td>1.413848e+06</td>\n",
       "    </tr>\n",
       "  </tbody>\n",
       "</table>\n",
       "</div>"
      ],
      "text/plain": [
       "         Unnamed: 0\n",
       "count  1.407328e+06\n",
       "mean   7.072454e+05\n",
       "std    4.081009e+05\n",
       "min    0.000000e+00\n",
       "25%    3.538128e+05\n",
       "50%    7.072395e+05\n",
       "75%    1.060710e+06\n",
       "max    1.413848e+06"
      ]
     },
     "execution_count": 4,
     "metadata": {},
     "output_type": "execute_result"
    }
   ],
   "source": [
    "# get descriptive statistics\n",
    "descriptive_stats = DescriptiveStats(df)\n",
    "descriptive_stats.get_descriptive_stats()"
   ]
  },
  {
   "cell_type": "code",
   "execution_count": 5,
   "id": "000c727d",
   "metadata": {},
   "outputs": [
    {
     "data": {
      "application/vnd.microsoft.datawrangler.viewer.v0+json": {
       "columns": [
        {
         "name": "index",
         "rawType": "object",
         "type": "string"
        },
        {
         "name": "0",
         "rawType": "int64",
         "type": "integer"
        }
       ],
       "ref": "e93336b9-0477-4c22-83f4-c3128ecc6350",
       "rows": [
        [
         "Unnamed: 0",
         "0"
        ],
        [
         "headline",
         "0"
        ],
        [
         "url",
         "0"
        ],
        [
         "publisher",
         "0"
        ],
        [
         "date",
         "55987"
        ],
        [
         "stock",
         "0"
        ]
       ],
       "shape": {
        "columns": 1,
        "rows": 6
       }
      },
      "text/plain": [
       "Unnamed: 0        0\n",
       "headline          0\n",
       "url               0\n",
       "publisher         0\n",
       "date          55987\n",
       "stock             0\n",
       "dtype: int64"
      ]
     },
     "execution_count": 5,
     "metadata": {},
     "output_type": "execute_result"
    }
   ],
   "source": [
    "# get missing values\n",
    "descriptive_stats.get_missing_values()"
   ]
  },
  {
   "cell_type": "code",
   "execution_count": 6,
   "id": "710d628c",
   "metadata": {},
   "outputs": [
    {
     "data": {
      "application/vnd.microsoft.datawrangler.viewer.v0+json": {
       "columns": [
        {
         "name": "index",
         "rawType": "object",
         "type": "string"
        },
        {
         "name": "0",
         "rawType": "int64",
         "type": "integer"
        }
       ],
       "ref": "52e6063a-856e-4766-9db8-5fe1d6ec33db",
       "rows": [
        [
         "Unnamed: 0",
         "1407328"
        ],
        [
         "headline",
         "845770"
        ],
        [
         "url",
         "883429"
        ],
        [
         "publisher",
         "1034"
        ],
        [
         "date",
         "3946"
        ],
        [
         "stock",
         "6204"
        ]
       ],
       "shape": {
        "columns": 1,
        "rows": 6
       }
      },
      "text/plain": [
       "Unnamed: 0    1407328\n",
       "headline       845770\n",
       "url            883429\n",
       "publisher        1034\n",
       "date             3946\n",
       "stock            6204\n",
       "dtype: int64"
      ]
     },
     "execution_count": 6,
     "metadata": {},
     "output_type": "execute_result"
    }
   ],
   "source": [
    "# get unique values\n",
    "descriptive_stats.get_unique_values()"
   ]
  },
  {
   "cell_type": "code",
   "execution_count": 7,
   "id": "e7c93e08",
   "metadata": {},
   "outputs": [
    {
     "name": "stdout",
     "output_type": "stream",
     "text": [
      "Headline: count    1.407328e+06\n",
      "mean     7.312051e+01\n",
      "std      4.073531e+01\n",
      "min      3.000000e+00\n",
      "25%      4.700000e+01\n",
      "50%      6.400000e+01\n",
      "75%      8.700000e+01\n",
      "max      5.120000e+02\n",
      "Name: headline, dtype: float64\n",
      "-----------------------------------------------------------------------------\n",
      "URL: count    1.407328e+06\n",
      "mean     1.105045e+02\n",
      "std      1.916913e+01\n",
      "min      3.300000e+01\n",
      "25%      9.400000e+01\n",
      "50%      1.150000e+02\n",
      "75%      1.250000e+02\n",
      "max      1.620000e+02\n",
      "Name: url, dtype: float64\n",
      "-----------------------------------------------------------------------------\n",
      "Publisher: count    1.407328e+06\n",
      "mean     1.277136e+01\n",
      "std      2.701927e+00\n",
      "min      3.000000e+00\n",
      "25%      1.000000e+01\n",
      "50%      1.300000e+01\n",
      "75%      1.400000e+01\n",
      "max      4.600000e+01\n",
      "Name: publisher, dtype: float64\n",
      "-----------------------------------------------------------------------------\n",
      "Stock: count    1.407328e+06\n",
      "mean     3.344890e+00\n",
      "std      6.688505e-01\n",
      "min      1.000000e+00\n",
      "25%      3.000000e+00\n",
      "50%      3.000000e+00\n",
      "75%      4.000000e+00\n",
      "max      5.000000e+00\n",
      "Name: stock, dtype: float64\n"
     ]
    }
   ],
   "source": [
    "# obtain basic statistics for each column\n",
    "print(\"Headline:\", descriptive_stats.get_text_length_stats(\"headline\"))\n",
    "print(\"-----------------------------------------------------------------------------\")\n",
    "print(\"URL:\", descriptive_stats.get_text_length_stats(\"url\"))\n",
    "print(\"-----------------------------------------------------------------------------\")\n",
    "print(\"Publisher:\", descriptive_stats.get_text_length_stats(\"publisher\"))\n",
    "print(\"-----------------------------------------------------------------------------\")\n",
    "print(\"Stock:\", descriptive_stats.get_text_length_stats(\"stock\"))"
   ]
  },
  {
   "cell_type": "code",
   "execution_count": 8,
   "id": "05c7c8e7",
   "metadata": {},
   "outputs": [
    {
     "data": {
      "image/png": "[encoded data removed]",
      "text/plain": [
       "<Figure size 1000x600 with 1 Axes>"
      ]
     },
     "metadata": {},
     "output_type": "display_data"
    }
   ],
   "source": [
    "# visualize the distribution of headline lengths\n",
    "descriptive_stats.plot_text_length_distribution(\"headline\")"
   ]
  },
  {
   "cell_type": "markdown",
   "id": "fce4b7df",
   "metadata": {},
   "source": [
    "### Count the number of articles per publisher to identify which publishers are most active. "
   ]
  },
  {
   "cell_type": "code",
   "execution_count": 9,
   "id": "3da6b0c5",
   "metadata": {},
   "outputs": [
    {
     "data": {
      "application/vnd.microsoft.datawrangler.viewer.v0+json": {
       "columns": [
        {
         "name": "publisher",
         "rawType": "object",
         "type": "string"
        },
        {
         "name": "count",
         "rawType": "int64",
         "type": "integer"
        }
       ],
       "ref": "4c7df76b-64f2-4b1d-b0a2-1675396f4ad2",
       "rows": [
        [
         "Paul Quintaro",
         "228373"
        ],
        [
         "Lisa Levin",
         "186979"
        ],
        [
         "Benzinga Newsdesk",
         "150484"
        ],
        [
         "Charles Gross",
         "96732"
        ],
        [
         "Monica Gerson",
         "82380"
        ],
        [
         "Eddie Staley",
         "57254"
        ],
        [
         "Hal Lindon",
         "49047"
        ],
        [
         "ETF Professor",
         "28489"
        ],
        [
         "Juan Lopez",
         "28438"
        ],
        [
         "Benzinga Staff",
         "28114"
        ],
        [
         "Vick Meyer",
         "24826"
        ],
        [
         "webmaster",
         "20313"
        ],
        [
         "Benzinga_Newsdesk",
         "19410"
        ],
        [
         "Zacks",
         "19390"
        ],
        [
         "Jayson Derrick",
         "19050"
        ],
        [
         "Allie Wickman",
         "18317"
        ],
        [
         "Shanthi Rexaline",
         "16640"
        ],
        [
         "Craig Jones",
         "16221"
        ],
        [
         "Wayne Duggan",
         "12897"
        ],
        [
         "Nelson Hem",
         "12590"
        ],
        [
         "Dwight Einhorn",
         "12226"
        ],
        [
         "Michael J. Zerinskas",
         "10892"
        ],
        [
         "Joe Young",
         "10777"
        ],
        [
         "Javier Hasse",
         "8839"
        ],
        [
         "David Johnson",
         "8749"
        ],
        [
         "Matthew Kennedy",
         "8167"
        ],
        [
         "Forex Live",
         "7198"
        ],
        [
         "Laura Brodbeck",
         "7069"
        ],
        [
         "Scott Rubin",
         "6553"
        ],
        [
         "Jake L'Ecuyer",
         "5810"
        ],
        [
         "Roger Nachman",
         "5510"
        ],
        [
         "luke@benzinga.com",
         "5198"
        ],
        [
         "Jonathan Chen",
         "4795"
        ],
        [
         "Garrett Cook",
         "4646"
        ],
        [
         "Benzinga Insights",
         "4371"
        ],
        [
         "Benzinga Staff 5",
         "4068"
        ],
        [
         "optionsXpress",
         "3842"
        ],
        [
         "Manikandan Raman",
         "3837"
        ],
        [
         "Elizabeth Balboa",
         "3804"
        ],
        [
         "Benzinga News Desk",
         "3782"
        ],
        [
         "BenzingaStaffJ",
         "3616"
        ],
        [
         "Jim Swanson",
         "3606"
        ],
        [
         "JJ Kinahan",
         "3583"
        ],
        [
         "Benzinga Newsdesk",
         "3580"
        ],
        [
         "John Seward",
         "3576"
        ],
        [
         "FreightWaves",
         "3543"
        ],
        [
         "Matthew Kanterman",
         "3218"
        ],
        [
         "Louis Bedigian",
         "2976"
        ],
        [
         "Brett Hershman",
         "2859"
        ],
        [
         "Daniel Hayden IV",
         "2813"
        ]
       ],
       "shape": {
        "columns": 1,
        "rows": 1034
       }
      },
      "text/plain": [
       "publisher\n",
       "Paul Quintaro        228373\n",
       "Lisa Levin           186979\n",
       "Benzinga Newsdesk    150484\n",
       "Charles Gross         96732\n",
       "Monica Gerson         82380\n",
       "                      ...  \n",
       "MoneyGeek                 1\n",
       "muathe                    1\n",
       "Robert Morris             1\n",
       "LeftCoastHedgie           1\n",
       "Jeremie Capron            1\n",
       "Name: count, Length: 1034, dtype: int64"
      ]
     },
     "execution_count": 9,
     "metadata": {},
     "output_type": "execute_result"
    }
   ],
   "source": [
    "# Count the number of articles per publisher to identify which publishers are most active.\n",
    "descriptive_stats.get_articles_per_publisher('publisher')"
   ]
  },
  {
   "cell_type": "markdown",
   "id": "d8329948",
   "metadata": {},
   "source": [
    "''' Paul Quintaro is the most active publisher with 228373 articles. '''"
   ]
  },
  {
   "cell_type": "code",
   "execution_count": 10,
   "id": "25abc3fe",
   "metadata": {},
   "outputs": [
    {
     "data": {
      "image/png": "[encoded data removed]",
      "text/plain": [
       "<Figure size 1200x600 with 1 Axes>"
      ]
     },
     "metadata": {},
     "output_type": "display_data"
    }
   ],
   "source": [
    "# Visualize the number of articles per publisher\n",
    "import matplotlib.pyplot as plt\n",
    "plt.figure(figsize=(12, 6))\n",
    "top_df = descriptive_stats.get_articles_per_publisher('publisher').nlargest(20)\n",
    "plt.bar(top_df.index, top_df.values)\n",
    "plt.xlabel('Publisher')\n",
    "plt.ylabel('Number of Articles')\n",
    "plt.title('Top 20 Publishers by Number of Articles')\n",
    "plt.xticks(rotation=45)\n",
    "plt.tight_layout()"
   ]
  },
  {
   "cell_type": "markdown",
   "id": "575d64c9",
   "metadata": {},
   "source": [
    "### publication trends over time\n",
    "Analyze the publication dates to see trends over time, such as increased news frequency on particular days or during specific events."
   ]
  },
  {
   "cell_type": "code",
   "execution_count": 11,
   "id": "ca769676",
   "metadata": {},
   "outputs": [
    {
     "data": {
      "image/png": "[encoded data removed]",
      "text/plain": [
       "<Figure size 1000x600 with 1 Axes>"
      ]
     },
     "metadata": {},
     "output_type": "display_data"
    },
    {
     "data": {
      "image/png": "[encoded data removed]",
      "text/plain": [
       "<Figure size 1000x600 with 1 Axes>"
      ]
     },
     "metadata": {},
     "output_type": "display_data"
    }
   ],
   "source": [
    "# Analyze the publication dates to see trends over time, such as increased news frequency on particular days or during specific events.\n",
    "descriptive_stats.get_publication_date_trends('date')\n",
    "# Visualize the number of articles by day of the week\n",
    "descriptive_stats.plot_publication_weekly_trends('date')"
   ]
  },
  {
   "cell_type": "markdown",
   "id": "5ea326d0",
   "metadata": {},
   "source": [
    "## Text Analysis (Topic Modeling)"
   ]
  },
  {
   "cell_type": "code",
   "execution_count": 13,
   "id": "845c75fc",
   "metadata": {},
   "outputs": [],
   "source": [
    "# import the module for text analysis\n",
    "from src.eda.text_analysis import TextAnalysis\n"
   ]
  },
  {
   "cell_type": "code",
   "execution_count": 15,
   "id": "6ed79742",
   "metadata": {},
   "outputs": [],
   "source": [
    "# initialize the TextAnalysis class\n",
    "text_analyzer = TextAnalysis(df)"
   ]
  },
  {
   "cell_type": "code",
   "execution_count": 16,
   "id": "9284cfcd",
   "metadata": {},
   "outputs": [
    {
     "name": "stdout",
     "output_type": "stream",
     "text": [
      "                                            headline  sentiment_score  \\\n",
      "0            Stocks That Hit 52-Week Highs On Friday            0.000   \n",
      "1         Stocks That Hit 52-Week Highs On Wednesday            0.000   \n",
      "2                      71 Biggest Movers From Friday            0.000   \n",
      "3       46 Stocks Moving In Friday's Mid-Day Session            0.000   \n",
      "4  B of A Securities Maintains Neutral on Agilent...            0.296   \n",
      "\n",
      "  sentiment  \n",
      "0   Neutral  \n",
      "1   Neutral  \n",
      "2   Neutral  \n",
      "3   Neutral  \n",
      "4  Positive  \n"
     ]
    }
   ],
   "source": [
    "# perform sentiment analysis on the 'headline' column\n",
    "df['sentiment_score'], df['sentiment'] = zip(*df['headline'].apply(text_analyzer.analyze_sentiment))\n",
    "print(df[['headline', 'sentiment_score', 'sentiment']].head())"
   ]
  },
  {
   "cell_type": "code",
   "execution_count": 17,
   "id": "802146e0",
   "metadata": {},
   "outputs": [
    {
     "data": {
      "application/vnd.microsoft.datawrangler.viewer.v0+json": {
       "columns": [
        {
         "name": "index",
         "rawType": "int64",
         "type": "integer"
        },
        {
         "name": "Unnamed: 0",
         "rawType": "int64",
         "type": "integer"
        },
        {
         "name": "headline",
         "rawType": "object",
         "type": "string"
        },
        {
         "name": "url",
         "rawType": "object",
         "type": "string"
        },
        {
         "name": "publisher",
         "rawType": "object",
         "type": "string"
        },
        {
         "name": "date",
         "rawType": "datetime64[ns, UTC]",
         "type": "unknown"
        },
        {
         "name": "stock",
         "rawType": "object",
         "type": "string"
        },
        {
         "name": "day_of_week",
         "rawType": "object",
         "type": "unknown"
        },
        {
         "name": "sentiment_score",
         "rawType": "float64",
         "type": "float"
        },
        {
         "name": "sentiment",
         "rawType": "object",
         "type": "string"
        }
       ],
       "ref": "318efb58-5140-45b8-bc99-9e7a56ba613f",
       "rows": [
        [
         "0",
         "0",
         "Stocks That Hit 52-Week Highs On Friday",
         "https://www.benzinga.com/news/20/06/16190091/stocks-that-hit-52-week-highs-on-friday",
         "Benzinga Insights",
         null,
         "A",
         null,
         "0.0",
         "Neutral"
        ],
        [
         "1",
         "1",
         "Stocks That Hit 52-Week Highs On Wednesday",
         "https://www.benzinga.com/news/20/06/16170189/stocks-that-hit-52-week-highs-on-wednesday",
         "Benzinga Insights",
         null,
         "A",
         null,
         "0.0",
         "Neutral"
        ],
        [
         "2",
         "2",
         "71 Biggest Movers From Friday",
         "https://www.benzinga.com/news/20/05/16103463/71-biggest-movers-from-friday",
         "Lisa Levin",
         null,
         "A",
         null,
         "0.0",
         "Neutral"
        ],
        [
         "3",
         "3",
         "46 Stocks Moving In Friday's Mid-Day Session",
         "https://www.benzinga.com/news/20/05/16095921/46-stocks-moving-in-fridays-mid-day-session",
         "Lisa Levin",
         null,
         "A",
         null,
         "0.0",
         "Neutral"
        ],
        [
         "4",
         "4",
         "B of A Securities Maintains Neutral on Agilent Technologies, Raises Price Target to $88",
         "https://www.benzinga.com/news/20/05/16095304/b-of-a-securities-maintains-neutral-on-agilent-technologies-raises-price-target-to-88",
         "Vick Meyer",
         null,
         "A",
         null,
         "0.296",
         "Positive"
        ],
        [
         "5",
         "5",
         "CFRA Maintains Hold on Agilent Technologies, Lowers Price Target to $85",
         "https://www.benzinga.com/news/20/05/16095163/cfra-maintains-hold-on-agilent-technologies-lowers-price-target-to-85",
         "vishwanath@benzinga.com",
         null,
         "A",
         null,
         "-0.128",
         "Negative"
        ],
        [
         "6",
         "6",
         "UBS Maintains Neutral on Agilent Technologies, Raises Price Target to $87",
         "https://www.benzinga.com/news/20/05/16094027/ubs-maintains-neutral-on-agilent-technologies-raises-price-target-to-87",
         "vishwanath@benzinga.com",
         null,
         "A",
         null,
         "0.0",
         "Neutral"
        ],
        [
         "7",
         "7",
         "Agilent Technologies shares are trading higher after the company reported better-than-expected Q2 EPS and sales results.",
         "https://www.benzinga.com/wiim/20/05/16093805/agilent-technologies-shares-are-trading-higher-after-the-company-reported-better-than-expected-q2-ep",
         "Benzinga Newsdesk",
         null,
         "A",
         null,
         "0.296",
         "Positive"
        ],
        [
         "8",
         "8",
         "Wells Fargo Maintains Overweight on Agilent Technologies, Raises Price Target to $95",
         "https://www.benzinga.com/news/20/05/16093505/wells-fargo-maintains-overweight-on-agilent-technologies-raises-price-target-to-95",
         "vishwanath@benzinga.com",
         null,
         "A",
         null,
         "-0.128",
         "Negative"
        ],
        [
         "9",
         "9",
         "10 Biggest Price Target Changes For Friday",
         "https://www.benzinga.com/analyst-ratings/price-target/20/05/16093262/10-biggest-price-target-changes-for-friday",
         "Lisa Levin",
         null,
         "A",
         null,
         "0.0",
         "Neutral"
        ]
       ],
       "shape": {
        "columns": 9,
        "rows": 10
       }
      },
      "text/html": [
       "<div>\n",
       "<style scoped>\n",
       "    .dataframe tbody tr th:only-of-type {\n",
       "        vertical-align: middle;\n",
       "    }\n",
       "\n",
       "    .dataframe tbody tr th {\n",
       "        vertical-align: top;\n",
       "    }\n",
       "\n",
       "    .dataframe thead th {\n",
       "        text-align: right;\n",
       "    }\n",
       "</style>\n",
       "<table border=\"1\" class=\"dataframe\">\n",
       "  <thead>\n",
       "    <tr style=\"text-align: right;\">\n",
       "      <th></th>\n",
       "      <th>Unnamed: 0</th>\n",
       "      <th>headline</th>\n",
       "      <th>url</th>\n",
       "      <th>publisher</th>\n",
       "      <th>date</th>\n",
       "      <th>stock</th>\n",
       "      <th>day_of_week</th>\n",
       "      <th>sentiment_score</th>\n",
       "      <th>sentiment</th>\n",
       "    </tr>\n",
       "  </thead>\n",
       "  <tbody>\n",
       "    <tr>\n",
       "      <th>0</th>\n",
       "      <td>0</td>\n",
       "      <td>Stocks That Hit 52-Week Highs On Friday</td>\n",
       "      <td>https://www.benzinga.com/news/20/06/16190091/s...</td>\n",
       "      <td>Benzinga Insights</td>\n",
       "      <td>NaT</td>\n",
       "      <td>A</td>\n",
       "      <td>NaN</td>\n",
       "      <td>0.000</td>\n",
       "      <td>Neutral</td>\n",
       "    </tr>\n",
       "    <tr>\n",
       "      <th>1</th>\n",
       "      <td>1</td>\n",
       "      <td>Stocks That Hit 52-Week Highs On Wednesday</td>\n",
       "      <td>https://www.benzinga.com/news/20/06/16170189/s...</td>\n",
       "      <td>Benzinga Insights</td>\n",
       "      <td>NaT</td>\n",
       "      <td>A</td>\n",
       "      <td>NaN</td>\n",
       "      <td>0.000</td>\n",
       "      <td>Neutral</td>\n",
       "    </tr>\n",
       "    <tr>\n",
       "      <th>2</th>\n",
       "      <td>2</td>\n",
       "      <td>71 Biggest Movers From Friday</td>\n",
       "      <td>https://www.benzinga.com/news/20/05/16103463/7...</td>\n",
       "      <td>Lisa Levin</td>\n",
       "      <td>NaT</td>\n",
       "      <td>A</td>\n",
       "      <td>NaN</td>\n",
       "      <td>0.000</td>\n",
       "      <td>Neutral</td>\n",
       "    </tr>\n",
       "    <tr>\n",
       "      <th>3</th>\n",
       "      <td>3</td>\n",
       "      <td>46 Stocks Moving In Friday's Mid-Day Session</td>\n",
       "      <td>https://www.benzinga.com/news/20/05/16095921/4...</td>\n",
       "      <td>Lisa Levin</td>\n",
       "      <td>NaT</td>\n",
       "      <td>A</td>\n",
       "      <td>NaN</td>\n",
       "      <td>0.000</td>\n",
       "      <td>Neutral</td>\n",
       "    </tr>\n",
       "    <tr>\n",
       "      <th>4</th>\n",
       "      <td>4</td>\n",
       "      <td>B of A Securities Maintains Neutral on Agilent...</td>\n",
       "      <td>https://www.benzinga.com/news/20/05/16095304/b...</td>\n",
       "      <td>Vick Meyer</td>\n",
       "      <td>NaT</td>\n",
       "      <td>A</td>\n",
       "      <td>NaN</td>\n",
       "      <td>0.296</td>\n",
       "      <td>Positive</td>\n",
       "    </tr>\n",
       "    <tr>\n",
       "      <th>5</th>\n",
       "      <td>5</td>\n",
       "      <td>CFRA Maintains Hold on Agilent Technologies, L...</td>\n",
       "      <td>https://www.benzinga.com/news/20/05/16095163/c...</td>\n",
       "      <td>vishwanath@benzinga.com</td>\n",
       "      <td>NaT</td>\n",
       "      <td>A</td>\n",
       "      <td>NaN</td>\n",
       "      <td>-0.128</td>\n",
       "      <td>Negative</td>\n",
       "    </tr>\n",
       "    <tr>\n",
       "      <th>6</th>\n",
       "      <td>6</td>\n",
       "      <td>UBS Maintains Neutral on Agilent Technologies,...</td>\n",
       "      <td>https://www.benzinga.com/news/20/05/16094027/u...</td>\n",
       "      <td>vishwanath@benzinga.com</td>\n",
       "      <td>NaT</td>\n",
       "      <td>A</td>\n",
       "      <td>NaN</td>\n",
       "      <td>0.000</td>\n",
       "      <td>Neutral</td>\n",
       "    </tr>\n",
       "    <tr>\n",
       "      <th>7</th>\n",
       "      <td>7</td>\n",
       "      <td>Agilent Technologies shares are trading higher...</td>\n",
       "      <td>https://www.benzinga.com/wiim/20/05/16093805/a...</td>\n",
       "      <td>Benzinga Newsdesk</td>\n",
       "      <td>NaT</td>\n",
       "      <td>A</td>\n",
       "      <td>NaN</td>\n",
       "      <td>0.296</td>\n",
       "      <td>Positive</td>\n",
       "    </tr>\n",
       "    <tr>\n",
       "      <th>8</th>\n",
       "      <td>8</td>\n",
       "      <td>Wells Fargo Maintains Overweight on Agilent Te...</td>\n",
       "      <td>https://www.benzinga.com/news/20/05/16093505/w...</td>\n",
       "      <td>vishwanath@benzinga.com</td>\n",
       "      <td>NaT</td>\n",
       "      <td>A</td>\n",
       "      <td>NaN</td>\n",
       "      <td>-0.128</td>\n",
       "      <td>Negative</td>\n",
       "    </tr>\n",
       "    <tr>\n",
       "      <th>9</th>\n",
       "      <td>9</td>\n",
       "      <td>10 Biggest Price Target Changes For Friday</td>\n",
       "      <td>https://www.benzinga.com/analyst-ratings/price...</td>\n",
       "      <td>Lisa Levin</td>\n",
       "      <td>NaT</td>\n",
       "      <td>A</td>\n",
       "      <td>NaN</td>\n",
       "      <td>0.000</td>\n",
       "      <td>Neutral</td>\n",
       "    </tr>\n",
       "  </tbody>\n",
       "</table>\n",
       "</div>"
      ],
      "text/plain": [
       "   Unnamed: 0                                           headline  \\\n",
       "0           0            Stocks That Hit 52-Week Highs On Friday   \n",
       "1           1         Stocks That Hit 52-Week Highs On Wednesday   \n",
       "2           2                      71 Biggest Movers From Friday   \n",
       "3           3       46 Stocks Moving In Friday's Mid-Day Session   \n",
       "4           4  B of A Securities Maintains Neutral on Agilent...   \n",
       "5           5  CFRA Maintains Hold on Agilent Technologies, L...   \n",
       "6           6  UBS Maintains Neutral on Agilent Technologies,...   \n",
       "7           7  Agilent Technologies shares are trading higher...   \n",
       "8           8  Wells Fargo Maintains Overweight on Agilent Te...   \n",
       "9           9         10 Biggest Price Target Changes For Friday   \n",
       "\n",
       "                                                 url                publisher  \\\n",
       "0  https://www.benzinga.com/news/20/06/16190091/s...        Benzinga Insights   \n",
       "1  https://www.benzinga.com/news/20/06/16170189/s...        Benzinga Insights   \n",
       "2  https://www.benzinga.com/news/20/05/16103463/7...               Lisa Levin   \n",
       "3  https://www.benzinga.com/news/20/05/16095921/4...               Lisa Levin   \n",
       "4  https://www.benzinga.com/news/20/05/16095304/b...               Vick Meyer   \n",
       "5  https://www.benzinga.com/news/20/05/16095163/c...  vishwanath@benzinga.com   \n",
       "6  https://www.benzinga.com/news/20/05/16094027/u...  vishwanath@benzinga.com   \n",
       "7  https://www.benzinga.com/wiim/20/05/16093805/a...        Benzinga Newsdesk   \n",
       "8  https://www.benzinga.com/news/20/05/16093505/w...  vishwanath@benzinga.com   \n",
       "9  https://www.benzinga.com/analyst-ratings/price...               Lisa Levin   \n",
       "\n",
       "  date stock day_of_week  sentiment_score sentiment  \n",
       "0  NaT     A         NaN            0.000   Neutral  \n",
       "1  NaT     A         NaN            0.000   Neutral  \n",
       "2  NaT     A         NaN            0.000   Neutral  \n",
       "3  NaT     A         NaN            0.000   Neutral  \n",
       "4  NaT     A         NaN            0.296  Positive  \n",
       "5  NaT     A         NaN           -0.128  Negative  \n",
       "6  NaT     A         NaN            0.000   Neutral  \n",
       "7  NaT     A         NaN            0.296  Positive  \n",
       "8  NaT     A         NaN           -0.128  Negative  \n",
       "9  NaT     A         NaN            0.000   Neutral  "
      ]
     },
     "execution_count": 17,
     "metadata": {},
     "output_type": "execute_result"
    }
   ],
   "source": [
    "df.head(10)"
   ]
  },
  {
   "cell_type": "code",
   "execution_count": 18,
   "id": "d6eb1fce",
   "metadata": {},
   "outputs": [
    {
     "name": "stdout",
     "output_type": "stream",
     "text": [
      "sentiment\n",
      "Neutral     731893\n",
      "Positive    448740\n",
      "Negative    226695\n",
      "Name: count, dtype: int64\n"
     ]
    }
   ],
   "source": [
    "#count the number of articles for each sentiment category\n",
    "sentiment_counts = df['sentiment'].value_counts()\n",
    "print(sentiment_counts)"
   ]
  }
 ],
 "metadata": {
  "kernelspec": {
   "display_name": "venv",
   "language": "python",
   "name": "python3"
  },
  "language_info": {
   "codemirror_mode": {
    "name": "ipython",
    "version": 3
   },
   "file_extension": ".py",
   "mimetype": "text/x-python",
   "name": "python",
   "nbconvert_exporter": "python",
   "pygments_lexer": "ipython3",
   "version": "3.13.3"
  }
 },
 "nbformat": 4,
 "nbformat_minor": 5
}
