{
 "cells": [
  {
   "cell_type": "markdown",
   "id": "0ea7f3ee",
   "metadata": {},
   "source": [
    "# Task 2 : Quantitative Analysis using pynance and Talib"
   ]
  },
  {
   "cell_type": "code",
   "execution_count": 1,
   "id": "c3c78529",
   "metadata": {},
   "outputs": [],
   "source": [
    "# reload the module\n",
    "%load_ext autoreload\n",
    "%autoreload 2 "
   ]
  },
  {
   "cell_type": "code",
   "execution_count": 2,
   "id": "26a28f4a",
   "metadata": {},
   "outputs": [],
   "source": [
    "import sys\n",
    "from pathlib import Path\n",
    "\n",
    "# Add the project root directory to sys.path\n",
    "project_root = Path(\"..\").resolve()\n",
    "if str(project_root) not in sys.path:\n",
    "    sys.path.append(str(project_root))"
   ]
  },
  {
   "cell_type": "code",
   "execution_count": 3,
   "id": "4746d3a6",
   "metadata": {},
   "outputs": [],
   "source": [
    "# importing libraries\n",
    "import talib\n",
    "import pandas as pd\n",
    "import yfinance as yf\n",
    "import plotly as px\n",
    "import matplotlib.pyplot as plt\n",
    "import matplotlib.dates as mdates\n",
    "import os"
   ]
  },
  {
   "cell_type": "code",
   "execution_count": 4,
   "id": "e91169c9",
   "metadata": {},
   "outputs": [],
   "source": [
    "# import modules\n",
    "from src.y_finance_data_loader import DataLoader"
   ]
  },
  {
   "cell_type": "markdown",
   "id": "db3fd8ef",
   "metadata": {},
   "source": [
    "### Loading and Preparing Data"
   ]
  },
  {
   "cell_type": "code",
   "execution_count": 5,
   "id": "395201ec",
   "metadata": {},
   "outputs": [
    {
     "name": "stdout",
     "output_type": "stream",
     "text": [
      "../data/yfinance_data\\AAPL_historical_data.csv\n",
      "../data/yfinance_data\\AMZN_historical_data.csv\n",
      "../data/yfinance_data\\GOOG_historical_data.csv\n",
      "../data/yfinance_data\\META_historical_data.csv\n",
      "../data/yfinance_data\\MSFT_historical_data.csv\n",
      "../data/yfinance_data\\NVDA_historical_data.csv\n",
      "../data/yfinance_data\\TSLA_historical_data.csv\n"
     ]
    }
   ],
   "source": [
    "# Load the dataset\n",
    "directory = '../data/yfinance_data'\n",
    "# List all files in the directory\n",
    "file_names = os.listdir(directory)\n",
    "for file_name in file_names:\n",
    "    if os.path.isfile(os.path.join(directory, file_name)):\n",
    "        print(os.path.join(directory, file_name))\n",
    "        data_loader = DataLoader(os.path.join(directory, file_name))\n",
    "        ticker_symbol = file_name.split('_')[0]\n",
    "        df = data_loader.load_data()\n",
    "        # Keep each dataframe in a variable with their ticker symbol\n",
    "        locals()[ticker_symbol] = df\n"
   ]
  },
  {
   "cell_type": "code",
   "execution_count": 6,
   "id": "6ebd7b8f",
   "metadata": {},
   "outputs": [],
   "source": [
    "# Filter Columns & Standardize DataFrames\n",
    "stock_data = {\n",
    "    'AAPL': AAPL,\n",
    "    'AMZN': AMZN,\n",
    "    'MSFT': MSFT,\n",
    "    'GOOG': GOOG,\n",
    "    'META': META,\n",
    "    'TSLA': TSLA\n",
    "}\n",
    "required_columns = ['Date', 'Open', 'High', 'Low', 'Close', 'Volume']\n",
    "for ticker, df in stock_data.items():\n",
    "    stock_data[ticker] = df[required_columns]\n"
   ]
  },
  {
   "cell_type": "code",
   "execution_count": 7,
   "id": "33771215",
   "metadata": {},
   "outputs": [
    {
     "name": "stdout",
     "output_type": "stream",
     "text": [
      "\n",
      "AAPL Data (First 5 Rows):\n",
      "        Date      Open      High       Low     Close     Volume\n",
      "0 1980-12-12  0.128348  0.128906  0.128348  0.128348  469033600\n",
      "1 1980-12-15  0.122210  0.122210  0.121652  0.121652  175884800\n",
      "2 1980-12-16  0.113281  0.113281  0.112723  0.112723  105728000\n",
      "3 1980-12-17  0.115513  0.116071  0.115513  0.115513   86441600\n",
      "4 1980-12-18  0.118862  0.119420  0.118862  0.118862   73449600\n",
      "\n",
      "AAPL Info:\n",
      "<class 'pandas.core.frame.DataFrame'>\n",
      "RangeIndex: 10998 entries, 0 to 10997\n",
      "Data columns (total 6 columns):\n",
      " #   Column  Non-Null Count  Dtype         \n",
      "---  ------  --------------  -----         \n",
      " 0   Date    10998 non-null  datetime64[ns]\n",
      " 1   Open    10998 non-null  float64       \n",
      " 2   High    10998 non-null  float64       \n",
      " 3   Low     10998 non-null  float64       \n",
      " 4   Close   10998 non-null  float64       \n",
      " 5   Volume  10998 non-null  int64         \n",
      "dtypes: datetime64[ns](1), float64(4), int64(1)\n",
      "memory usage: 515.7 KB\n",
      "--------------------------------------------------\n",
      "\n",
      "AMZN Data (First 5 Rows):\n",
      "        Date      Open      High       Low     Close      Volume\n",
      "0 1997-05-15  0.121875  0.125000  0.096354  0.097917  1443120000\n",
      "1 1997-05-16  0.098438  0.098958  0.085417  0.086458   294000000\n",
      "2 1997-05-19  0.088021  0.088542  0.081250  0.085417   122136000\n",
      "3 1997-05-20  0.086458  0.087500  0.081771  0.081771   109344000\n",
      "4 1997-05-21  0.081771  0.082292  0.068750  0.071354   377064000\n",
      "\n",
      "AMZN Info:\n",
      "<class 'pandas.core.frame.DataFrame'>\n",
      "RangeIndex: 6846 entries, 0 to 6845\n",
      "Data columns (total 6 columns):\n",
      " #   Column  Non-Null Count  Dtype         \n",
      "---  ------  --------------  -----         \n",
      " 0   Date    6846 non-null   datetime64[ns]\n",
      " 1   Open    6846 non-null   float64       \n",
      " 2   High    6846 non-null   float64       \n",
      " 3   Low     6846 non-null   float64       \n",
      " 4   Close   6846 non-null   float64       \n",
      " 5   Volume  6846 non-null   int64         \n",
      "dtypes: datetime64[ns](1), float64(4), int64(1)\n",
      "memory usage: 321.0 KB\n",
      "--------------------------------------------------\n",
      "\n",
      "MSFT Data (First 5 Rows):\n",
      "        Date      Open      High       Low     Close      Volume\n",
      "0 1986-03-13  0.088542  0.101563  0.088542  0.097222  1031788800\n",
      "1 1986-03-14  0.097222  0.102431  0.097222  0.100694   308160000\n",
      "2 1986-03-17  0.100694  0.103299  0.100694  0.102431   133171200\n",
      "3 1986-03-18  0.102431  0.103299  0.098958  0.099826    67766400\n",
      "4 1986-03-19  0.099826  0.100694  0.097222  0.098090    47894400\n",
      "\n",
      "MSFT Info:\n",
      "<class 'pandas.core.frame.DataFrame'>\n",
      "RangeIndex: 9672 entries, 0 to 9671\n",
      "Data columns (total 6 columns):\n",
      " #   Column  Non-Null Count  Dtype         \n",
      "---  ------  --------------  -----         \n",
      " 0   Date    9672 non-null   datetime64[ns]\n",
      " 1   Open    9672 non-null   float64       \n",
      " 2   High    9672 non-null   float64       \n",
      " 3   Low     9672 non-null   float64       \n",
      " 4   Close   9672 non-null   float64       \n",
      " 5   Volume  9672 non-null   int64         \n",
      "dtypes: datetime64[ns](1), float64(4), int64(1)\n",
      "memory usage: 453.5 KB\n",
      "--------------------------------------------------\n",
      "\n",
      "GOOG Data (First 5 Rows):\n",
      "        Date      Open      High       Low     Close     Volume\n",
      "0 2004-08-19  2.490664  2.591785  2.390042  2.499133  897427216\n",
      "1 2004-08-20  2.515820  2.716817  2.503118  2.697639  458857488\n",
      "2 2004-08-23  2.758411  2.826406  2.716070  2.724787  366857939\n",
      "3 2004-08-24  2.770615  2.779581  2.579581  2.611960  306396159\n",
      "4 2004-08-25  2.614201  2.689918  2.587302  2.640104  184645512\n",
      "\n",
      "GOOG Info:\n",
      "<class 'pandas.core.frame.DataFrame'>\n",
      "RangeIndex: 5020 entries, 0 to 5019\n",
      "Data columns (total 6 columns):\n",
      " #   Column  Non-Null Count  Dtype         \n",
      "---  ------  --------------  -----         \n",
      " 0   Date    5020 non-null   datetime64[ns]\n",
      " 1   Open    5020 non-null   float64       \n",
      " 2   High    5020 non-null   float64       \n",
      " 3   Low     5020 non-null   float64       \n",
      " 4   Close   5020 non-null   float64       \n",
      " 5   Volume  5020 non-null   int64         \n",
      "dtypes: datetime64[ns](1), float64(4), int64(1)\n",
      "memory usage: 235.4 KB\n",
      "--------------------------------------------------\n",
      "\n",
      "META Data (First 5 Rows):\n",
      "        Date       Open       High        Low      Close    Volume\n",
      "0 2012-12-12  28.000000  28.139999  27.370001  27.580000  46704200\n",
      "1 2012-12-13  27.590000  28.750000  27.430000  28.240000  81051600\n",
      "2 2012-12-14  28.180000  28.330000  26.760000  26.809999  91631600\n",
      "3 2012-12-17  26.770000  27.000000  26.320000  26.750000  57742500\n",
      "4 2012-12-18  26.959999  27.910000  26.900000  27.709999  60512900\n",
      "\n",
      "META Info:\n",
      "<class 'pandas.core.frame.DataFrame'>\n",
      "RangeIndex: 2926 entries, 0 to 2925\n",
      "Data columns (total 6 columns):\n",
      " #   Column  Non-Null Count  Dtype         \n",
      "---  ------  --------------  -----         \n",
      " 0   Date    2926 non-null   datetime64[ns]\n",
      " 1   Open    2926 non-null   float64       \n",
      " 2   High    2926 non-null   float64       \n",
      " 3   Low     2926 non-null   float64       \n",
      " 4   Close   2926 non-null   float64       \n",
      " 5   Volume  2926 non-null   int64         \n",
      "dtypes: datetime64[ns](1), float64(4), int64(1)\n",
      "memory usage: 137.3 KB\n",
      "--------------------------------------------------\n",
      "\n",
      "TSLA Data (First 5 Rows):\n",
      "        Date      Open      High       Low     Close     Volume\n",
      "0 2010-06-29  1.266667  1.666667  1.169333  1.592667  281494500\n",
      "1 2010-06-30  1.719333  2.028000  1.553333  1.588667  257806500\n",
      "2 2010-07-01  1.666667  1.728000  1.351333  1.464000  123282000\n",
      "3 2010-07-02  1.533333  1.540000  1.247333  1.280000   77097000\n",
      "4 2010-07-06  1.333333  1.333333  1.055333  1.074000  103003500\n",
      "\n",
      "TSLA Info:\n",
      "<class 'pandas.core.frame.DataFrame'>\n",
      "RangeIndex: 3545 entries, 0 to 3544\n",
      "Data columns (total 6 columns):\n",
      " #   Column  Non-Null Count  Dtype         \n",
      "---  ------  --------------  -----         \n",
      " 0   Date    3545 non-null   datetime64[ns]\n",
      " 1   Open    3545 non-null   float64       \n",
      " 2   High    3545 non-null   float64       \n",
      " 3   Low     3545 non-null   float64       \n",
      " 4   Close   3545 non-null   float64       \n",
      " 5   Volume  3545 non-null   int64         \n",
      "dtypes: datetime64[ns](1), float64(4), int64(1)\n",
      "memory usage: 166.3 KB\n",
      "--------------------------------------------------\n"
     ]
    }
   ],
   "source": [
    "\n",
    "# Loop through and display head() and info()\n",
    "for ticker, df in stock_data.items():\n",
    "    print(f\"\\n{ticker} Data (First 5 Rows):\")\n",
    "    print(df.head())\n",
    "    print(f\"\\n{ticker} Info:\")\n",
    "    df.info()\n",
    "    print(\"-\" * 50)  # Separator for readability"
   ]
  },
  {
   "cell_type": "markdown",
   "id": "2d7faa94",
   "metadata": {},
   "source": [
    "### Apply Analysis Indicators with Talib"
   ]
  },
  {
   "cell_type": "code",
   "execution_count": 8,
   "id": "3823a5cf",
   "metadata": {},
   "outputs": [],
   "source": [
    "# import the module for Analysis\n",
    "from src.quantitative_analysis.q_analysis import QuantitativeAnalysis"
   ]
  },
  {
   "cell_type": "code",
   "execution_count": 9,
   "id": "296e32be",
   "metadata": {},
   "outputs": [],
   "source": [
    "\n",
    "AAPL_analysis = QuantitativeAnalysis(stock_data['AAPL'])\n",
    "# Perform stock analysis for AAPL\n",
    "AAPL['SMA20'] = AAPL_analysis.calculate_SMA('Close',20)\n",
    "AAPL['EMA'] = AAPL_analysis.calculate_EMA('Close',20)\n",
    "AAPL['RSI'] = AAPL_analysis.calculate_RSI('Close',14)\n",
    "AAPL[['MACD', 'MACD_signal', 'MACD_hist']] = AAPL_analysis.calculate_MACD('Close')\n",
    "AAPL['Volatility'] = AAPL_analysis.calculate_volatility('Close',21)\n",
    "AAPL['Daily Returns'] = AAPL_analysis.calculate_daily_returns('Close')"
   ]
  }
 ],
 "metadata": {
  "kernelspec": {
   "display_name": "venv",
   "language": "python",
   "name": "python3"
  },
  "language_info": {
   "codemirror_mode": {
    "name": "ipython",
    "version": 3
   },
   "file_extension": ".py",
   "mimetype": "text/x-python",
   "name": "python",
   "nbconvert_exporter": "python",
   "pygments_lexer": "ipython3",
   "version": "3.13.3"
  }
 },
 "nbformat": 4,
 "nbformat_minor": 5
}
