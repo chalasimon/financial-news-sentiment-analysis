{
 "cells": [
  {
   "cell_type": "markdown",
   "id": "0ea7f3ee",
   "metadata": {},
   "source": [
    "# Task 2"
   ]
  },
  {
   "cell_type": "code",
   "execution_count": null,
   "id": "26a28f4a",
   "metadata": {},
   "outputs": [],
   "source": [
    "import sys\n",
    "from pathlib import Path\n",
    "\n",
    "# Add the project root directory to sys.path\n",
    "project_root = Path(\"..\").resolve()\n",
    "if str(project_root) not in sys.path:\n",
    "    sys.path.append(str(project_root))"
   ]
  },
  {
   "cell_type": "code",
   "execution_count": null,
   "id": "4746d3a6",
   "metadata": {},
   "outputs": [],
   "source": [
    "# importing libraries\n",
    "import talib\n",
    "import pandas as pd\n",
    "import yfinance as yf\n",
    "import plotly as px\n",
    "import matplotlib.pyplot as plt\n",
    "import matplotlib.dates as mdates"
   ]
  },
  {
   "cell_type": "code",
   "execution_count": null,
   "id": "e91169c9",
   "metadata": {},
   "outputs": [],
   "source": [
    "# import modules\n",
    "from src.data_loader import DataLoader"
   ]
  },
  {
   "cell_type": "code",
   "execution_count": null,
   "id": "395201ec",
   "metadata": {},
   "outputs": [],
   "source": [
    "# Stock Analysis of AAPL\n",
    "#loading data\n",
    "data_loader = DataLoader(\"data/yfinance_data/AAPL.csv\", \"AAPL\")\n",
    "df = data_loader.load_data()\n"
   ]
  },
  {
   "cell_type": "code",
   "execution_count": null,
   "id": "33771215",
   "metadata": {},
   "outputs": [],
   "source": [
    "required_columns = ['Date', 'Open', 'High', 'Low', 'Close', 'Volume']\n",
    "df = df[required_columns]\n",
    "\n",
    "# Display the first few rows of the data\n",
    "print(df.head())"
   ]
  }
 ],
 "metadata": {
  "kernelspec": {
   "display_name": "venv",
   "language": "python",
   "name": "python3"
  },
  "language_info": {
   "codemirror_mode": {
    "name": "ipython",
    "version": 3
   },
   "file_extension": ".py",
   "mimetype": "text/x-python",
   "name": "python",
   "nbconvert_exporter": "python",
   "pygments_lexer": "ipython3",
   "version": "3.13.3"
  }
 },
 "nbformat": 4,
 "nbformat_minor": 5
}
